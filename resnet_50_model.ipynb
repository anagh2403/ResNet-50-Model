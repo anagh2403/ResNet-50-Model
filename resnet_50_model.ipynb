{
  "nbformat": 4,
  "nbformat_minor": 0,
  "metadata": {
    "colab": {
      "provenance": []
    },
    "kernelspec": {
      "name": "python3",
      "display_name": "Python 3"
    },
    "language_info": {
      "name": "python"
    }
  },
  "cells": [
    {
      "cell_type": "code",
      "source": [
        "import tensorflow as tf\n",
        "from tensorflow.keras.datasets import cifar10\n",
        "from tensorflow.keras.layers import Input, Dense, Flatten\n",
        "from tensorflow.keras.models import Model\n",
        "from tensorflow.keras.applications.resnet50 import ResNet50\n",
        "\n",
        "# Load the CIFAR-10 dataset\n",
        "(x_train, y_train), (x_test, y_test) = cifar10.load_data()\n",
        "\n",
        "# Preprocess the data by scaling to values between 0 and 1\n",
        "x_train = x_train.astype('float32') / 255.0\n",
        "x_test = x_test.astype('float32') / 255.0\n",
        "\n",
        "# Define the ResNet50 base model\n",
        "base_model = ResNet50(include_top=False, input_shape=(32, 32, 3), pooling='avg')\n",
        "\n",
        "# Add a dense layer and a classification layer on top of the base model\n",
        "x = base_model.output\n",
        "x = Dense(256, activation='relu')(x)\n",
        "predictions = Dense(10, activation='softmax')(x)\n",
        "\n",
        "# Freeze the base model layers so they are not trained during the first training phase\n",
        "for layer in base_model.layers:\n",
        "    layer.trainable = False\n",
        "\n",
        "# Create the CNN model\n",
        "model = Model(inputs=base_model.input, outputs=predictions)\n",
        "\n",
        "# Compile the model\n",
        "model.compile(optimizer='adam',\n",
        "              loss='sparse_categorical_crossentropy',\n",
        "              metrics=['accuracy'])\n",
        "\n",
        "# Train the model\n",
        "model.fit(x_train, y_train, epochs=10, batch_size=32, validation_data=(x_test,y_test))"
      ],
      "metadata": {
        "colab": {
          "base_uri": "https://localhost:8080/"
        },
        "id": "-zoDj1hUCr9v",
        "outputId": "e121a9be-f8b6-40ea-fb8d-072bde9dcdac"
      },
      "execution_count": 23,
      "outputs": [
        {
          "output_type": "stream",
          "name": "stdout",
          "text": [
            "Epoch 1/10\n",
            "1563/1563 [==============================] - 310s 196ms/step - loss: 2.0416 - accuracy: 0.2528 - val_loss: 1.9215 - val_accuracy: 0.3036\n",
            "Epoch 2/10\n",
            "1563/1563 [==============================] - 268s 171ms/step - loss: 1.8795 - accuracy: 0.3142 - val_loss: 1.8340 - val_accuracy: 0.3296\n",
            "Epoch 3/10\n",
            "1563/1563 [==============================] - 326s 208ms/step - loss: 1.8248 - accuracy: 0.3390 - val_loss: 1.7705 - val_accuracy: 0.3681\n",
            "Epoch 4/10\n",
            "1563/1563 [==============================] - 310s 198ms/step - loss: 1.7908 - accuracy: 0.3532 - val_loss: 1.7423 - val_accuracy: 0.3769\n",
            "Epoch 5/10\n",
            "1563/1563 [==============================] - 316s 202ms/step - loss: 1.7622 - accuracy: 0.3611 - val_loss: 1.7791 - val_accuracy: 0.3600\n",
            "Epoch 6/10\n",
            "1563/1563 [==============================] - 284s 182ms/step - loss: 1.7429 - accuracy: 0.3715 - val_loss: 1.6948 - val_accuracy: 0.3916\n",
            "Epoch 7/10\n",
            "1563/1563 [==============================] - 323s 207ms/step - loss: 1.7313 - accuracy: 0.3793 - val_loss: 1.7357 - val_accuracy: 0.3824\n",
            "Epoch 8/10\n",
            "1563/1563 [==============================] - 321s 206ms/step - loss: 1.7165 - accuracy: 0.3843 - val_loss: 1.7736 - val_accuracy: 0.3559\n",
            "Epoch 9/10\n",
            "1563/1563 [==============================] - 312s 200ms/step - loss: 1.7006 - accuracy: 0.3900 - val_loss: 1.7517 - val_accuracy: 0.3713\n",
            "Epoch 10/10\n",
            "1563/1563 [==============================] - 266s 170ms/step - loss: 1.6891 - accuracy: 0.3937 - val_loss: 1.6880 - val_accuracy: 0.3924\n"
          ]
        },
        {
          "output_type": "execute_result",
          "data": {
            "text/plain": [
              "<keras.callbacks.History at 0x7fd53b8f4ca0>"
            ]
          },
          "metadata": {},
          "execution_count": 23
        }
      ]
    },
    {
      "cell_type": "code",
      "source": [
        "model.save('mpodels.h5')"
      ],
      "metadata": {
        "id": "F415m0im5-Xw"
      },
      "execution_count": 24,
      "outputs": []
    },
    {
      "cell_type": "code",
      "source": [],
      "metadata": {
        "id": "4LEFJ9EV6BqX"
      },
      "execution_count": null,
      "outputs": []
    }
  ]
}